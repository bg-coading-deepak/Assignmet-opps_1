{
 "cells": [
  {
   "cell_type": "markdown",
   "id": "888270b1",
   "metadata": {},
   "source": [
    "### Ques-no.1"
   ]
  },
  {
   "cell_type": "code",
   "execution_count": null,
   "id": "0eb84041",
   "metadata": {},
   "outputs": [],
   "source": [
    "Object − Objects have states and behaviors.\n",
    "Example: A dog has states - color, name, breed as well as behaviors – wagging the tail, barking, eating.\n",
    "An object is an instance of a class.\n",
    "Class − A class can be defined as a template/blueprint that describes the behavior/state that the object of its type support."
   ]
  },
  {
   "cell_type": "markdown",
   "id": "067d22be",
   "metadata": {},
   "source": [
    "### Ques-no.2"
   ]
  },
  {
   "cell_type": "code",
   "execution_count": null,
   "id": "f5a17e07",
   "metadata": {},
   "outputs": [],
   "source": [
    "The four pillars for OOP are:\n",
    "1.Abstraction.\n",
    "2.Encapsulation.\n",
    "3.Inheritance.\n",
    "4.Polymorphism."
   ]
  },
  {
   "cell_type": "markdown",
   "id": "e299a21e",
   "metadata": {},
   "source": [
    "### Ques-No.3"
   ]
  },
  {
   "cell_type": "code",
   "execution_count": null,
   "id": "279fffbe",
   "metadata": {},
   "outputs": [],
   "source": [
    "__init__>\n",
    "init is short for initialization.\n",
    "It is a constructor which gets called when you make an instance of the class and it is not necessary.\n",
    "But usually it our practice to write init method for setting default state of the object"
   ]
  },
  {
   "cell_type": "code",
   "execution_count": 2,
   "id": "0b2f158e",
   "metadata": {},
   "outputs": [],
   "source": [
    "class pwskills:\n",
    "    def __init__(self, id1, phone,contact):\n",
    "        self.id1=id1\n",
    "        self.phone=phone\n",
    "        self.contact=contact\n",
    "    def student_details(self):\n",
    "        return self.id1, self.phone, self.contact"
   ]
  },
  {
   "cell_type": "code",
   "execution_count": 6,
   "id": "146481ce",
   "metadata": {},
   "outputs": [],
   "source": [
    "rohan=pwskills(1,+9182898989,3)"
   ]
  },
  {
   "cell_type": "code",
   "execution_count": 7,
   "id": "cc616969",
   "metadata": {},
   "outputs": [
    {
     "data": {
      "text/plain": [
       "(1, 9182898989, 3)"
      ]
     },
     "execution_count": 7,
     "metadata": {},
     "output_type": "execute_result"
    }
   ],
   "source": [
    "rohan.student_details()"
   ]
  },
  {
   "cell_type": "markdown",
   "id": "dfd32222",
   "metadata": {},
   "source": [
    "### Ques-No.4"
   ]
  },
  {
   "cell_type": "code",
   "execution_count": null,
   "id": "022bead6",
   "metadata": {},
   "outputs": [],
   "source": [
    "self >\n",
    "The self variable is used to represent the instance of the class which is often used in object-oriented programming.\n",
    "It works as a reference to the object.\n",
    "Python uses the self parameter to refer to instance attributes and methods of the class."
   ]
  },
  {
   "cell_type": "markdown",
   "id": "f43801ef",
   "metadata": {},
   "source": [
    "### Ques-No.5"
   ]
  },
  {
   "cell_type": "code",
   "execution_count": null,
   "id": "9260b912",
   "metadata": {},
   "outputs": [],
   "source": [
    "Inheritance in OOP = When a class derives from another class. "
   ]
  },
  {
   "cell_type": "code",
   "execution_count": 1,
   "id": "939aaa0a",
   "metadata": {},
   "outputs": [
    {
     "name": "stdout",
     "output_type": "stream",
     "text": [
      "This function is defined inside the parent class.\n",
      "This function is defined inside the child class.\n"
     ]
    }
   ],
   "source": [
    "class Parent1:  \n",
    "    def func_1(self):  \n",
    "        print (\"This function is defined inside the parent class.\")  \n",
    "  \n",
    "  \n",
    "class Child1(Parent1):  \n",
    "    def func_2(self):  \n",
    "        print (\"This function is defined inside the child class.\")  \n",
    "  \n",
    "  \n",
    "object = Child1()  \n",
    "object.func_1()  \n",
    "object.func_2()  "
   ]
  }
 ],
 "metadata": {
  "kernelspec": {
   "display_name": "Python 3 (ipykernel)",
   "language": "python",
   "name": "python3"
  },
  "language_info": {
   "codemirror_mode": {
    "name": "ipython",
    "version": 3
   },
   "file_extension": ".py",
   "mimetype": "text/x-python",
   "name": "python",
   "nbconvert_exporter": "python",
   "pygments_lexer": "ipython3",
   "version": "3.9.12"
  }
 },
 "nbformat": 4,
 "nbformat_minor": 5
}
